{
 "cells": [
  {
   "cell_type": "markdown",
   "metadata": {},
   "source": [
    "## Dummy Data for POC Sefaz RJ\n",
    "- Developers: Lucas Moutinho, Victor Ciurlini\n",
    "- Code developed by team Ninjas Vert: Soluções em TIC\n",
    "\n",
    "<br>\n",
    "<img src=\"image/sefaz.jpg\" width=\"400\" height=\"200\">"
   ]
  },
  {
   "cell_type": "markdown",
   "metadata": {},
   "source": [
    "### Create tables"
   ]
  },
  {
   "cell_type": "code",
   "execution_count": 16,
   "metadata": {},
   "outputs": [],
   "source": [
    "import pandas as pd\n",
    "import random\n",
    "import string\n",
    "import datetime\n",
    "import matplotlib.pyplot as plt"
   ]
  },
  {
   "cell_type": "code",
   "execution_count": 28,
   "metadata": {},
   "outputs": [
    {
     "name": "stdout",
     "output_type": "stream",
     "text": [
      "{'DATA_NOTA_FISCAL':       id\n",
      "0      0\n",
      "1      1\n",
      "2      2\n",
      "3      3\n",
      "4      4\n",
      "..   ...\n",
      "295  295\n",
      "296  296\n",
      "297  297\n",
      "298  298\n",
      "299  299\n",
      "\n",
      "[300 rows x 1 columns], 'DATA_PRODUTO_SERVICO':       id\n",
      "0      0\n",
      "1      1\n",
      "2      2\n",
      "3      3\n",
      "4      4\n",
      "..   ...\n",
      "295  295\n",
      "296  296\n",
      "297  297\n",
      "298  298\n",
      "299  299\n",
      "\n",
      "[300 rows x 1 columns], 'DATA_SITUACAO_NF':       id\n",
      "0      0\n",
      "1      1\n",
      "2      2\n",
      "3      3\n",
      "4      4\n",
      "..   ...\n",
      "295  295\n",
      "296  296\n",
      "297  297\n",
      "298  298\n",
      "299  299\n",
      "\n",
      "[300 rows x 1 columns], 'DATA_PRODUTO':       id\n",
      "0      0\n",
      "1      1\n",
      "2      2\n",
      "3      3\n",
      "4      4\n",
      "..   ...\n",
      "295  295\n",
      "296  296\n",
      "297  297\n",
      "298  298\n",
      "299  299\n",
      "\n",
      "[300 rows x 1 columns], 'DATA_IS_VW_ESTAB_EMPRESA':       id\n",
      "0      0\n",
      "1      1\n",
      "2      2\n",
      "3      3\n",
      "4      4\n",
      "..   ...\n",
      "295  295\n",
      "296  296\n",
      "297  297\n",
      "298  298\n",
      "299  299\n",
      "\n",
      "[300 rows x 1 columns], 'DATA_IS_VW_ESTAB_ATV_ECO':       id\n",
      "0      0\n",
      "1      1\n",
      "2      2\n",
      "3      3\n",
      "4      4\n",
      "..   ...\n",
      "295  295\n",
      "296  296\n",
      "297  297\n",
      "298  298\n",
      "299  299\n",
      "\n",
      "[300 rows x 1 columns]}\n"
     ]
    }
   ],
   "source": [
    "data_tables = [\"NOTA_FISCAL\", \"PRODUTO_SERVICO\", \"SITUACAO_NF\", \"PRODUTO\", \"IS_VW_ESTAB_EMPRESA\", \"IS_VW_ESTAB_ATV_ECO\"]\n",
    "df = {}\n",
    "data_length = 300\n",
    "for x in data_tables:\n",
    "    data = {\"id\": [x for x in range(data_length)]}\n",
    "    df[\"DATA_{0}\".format(x)] = pd.DataFrame(data)\n",
    "print(df)"
   ]
  },
  {
   "cell_type": "markdown",
   "metadata": {},
   "source": [
    "### Auxiliary functions"
   ]
  },
  {
   "cell_type": "code",
   "execution_count": 80,
   "metadata": {},
   "outputs": [],
   "source": [
    "# Returns a list of randomized varchars with the specified data_lenth. \n",
    "# If column_length is 0 or negative a random size list is returned, with\n",
    "# a max length determined with the variable max_random_length\n",
    "def generate_varchar_column(data_length, column_length = 0, max_random_length = 10):\n",
    "    varchar_list = []\n",
    "    if column_length > 0: # fixed size\n",
    "        for _ in range(data_length):\n",
    "            varchar_list.append(''.join(random.choices(string.ascii_uppercase + string.digits, k = column_length)))\n",
    "    else: # random size\n",
    "        for _ in range(data_length):\n",
    "            varchar_list.append(''.join(random.choices(string.ascii_uppercase + string.digits, k = random.randint(1,max_random_length))))\n",
    "    return varchar_list\n",
    "\n",
    "# Returns a list of randomized numbers with the specified data_lenth.\n",
    "# If column_length is 0 or negative a random size list is returned, with\n",
    "# a max length determined with the variable max_random_length\n",
    "def generate_number_column(data_length, column_length = 0, max_random_length = 10):\n",
    "    number_list = []\n",
    "    if column_length > 0: # fixed size\n",
    "        for _ in range(data_length):\n",
    "            number_list.append(int(''.join(random.choices(string.digits, k = column_length))))\n",
    "    else: # random size\n",
    "        for _ in range(data_length):\n",
    "            number_list.append(int(''.join(random.choices(string.digits, k = random.randint(1,max_random_length)))))\n",
    "    return number_list\n",
    "\n",
    "# Returns a list of single randomized numbers within a certain range with the specified data_lenth.\n",
    "# The min value of the range is passed in min_range and the max at max_range\n",
    "def generate_number_in_range_column(data_length, min_range = 1, max_range = 9):\n",
    "    number_in_range_list = []\n",
    "    for _ in range(data_length):\n",
    "        number_in_range_list.append(random.randint(min_range,max_range))\n",
    "    return number_in_range_list\n",
    "\n",
    "# Returns a list of randomized dates within a certain year range with the specified data_lenth.\n",
    "# The min value of the year range is passed in min_range and the max at max_range\n",
    "def generate_date_column(data_length, min_range = 1990, max_range = 2020):\n",
    "    date_list = []\n",
    "    for _ in range(data_length):\n",
    "        date = datetime.datetime.strptime('{} {}'.format(random.randint(1, 366), random.randint(min_range,max_range)), '%j %Y')\n",
    "        date_list.append(date)\n",
    "    return date_list"
   ]
  },
  {
   "cell_type": "markdown",
   "metadata": {},
   "source": [
    "### Dummy data for SITUACAO_NF"
   ]
  },
  {
   "cell_type": "code",
   "execution_count": 109,
   "metadata": {},
   "outputs": [
    {
     "name": "stdout",
     "output_type": "stream",
     "text": [
      "   id                                    CO_CHAVE_ACESSO  DT_STATUS  \\\n",
      "0   0  IKQ6OGEDKS1S7M8END02VE0D6YJYT7MDF3JWNMZ9NSG2HO... 2003-03-26   \n",
      "1   1  M016LQ87X0NMN8KOWWKVGD3HZ2GA2XMY0QDRCSJ1G1HTFK... 2010-10-24   \n",
      "2   2  W7FSZQRAYTAHKPRUL6LTGT5SIII3ECYUQ2K9KJ0SYRYU04... 2010-08-15   \n",
      "3   3  R18KVRU1K8WRH0WE213P2QXN8MATZHWNRFMH4Z0HIUQC69... 2020-07-24   \n",
      "4   4  I13ILU3BXB9AH82T70T33LC3IWWZUS9ULL7QPB45Q30113... 2018-11-27   \n",
      "\n",
      "  SITUACAO_NF_CO_SITUACAO  TP_ORIGEM_ATUALIZACAO  \\\n",
      "0                      5S                      3   \n",
      "1                     AY7                      3   \n",
      "2                   Y99X6                      1   \n",
      "3                       B                      3   \n",
      "4                       K                      1   \n",
      "\n",
      "                        CO_CHAVE_ACESSO_CANCELAMENTO  \n",
      "0  5QAT5LZ436AI7CZU136QCLWODOSCMPEQOU8XHX3UR235PG...  \n",
      "1  6SCD31XD1AN1TBFYMILPNRA9L2BQL4AOGCOOI5QJ31RHOG...  \n",
      "2  QOKKSLZZA242JYXDJ9PKWULUAFB9TVTTNRYS3UV7TEM3ZG...  \n",
      "3  EVXGRZ3LFALFP78T7MGJ0UU1RRBP2VM9WI2A3JRZUW50NV...  \n",
      "4  3BIM28TRG037IW26UETMX8NVCIB06KMITYDLP37RDV0T3J...  \n"
     ]
    }
   ],
   "source": [
    "df[\"DATA_SITUACAO_NF\"][\"CO_CHAVE_ACESSO\"] = generate_varchar_column(data_length,61)\n",
    "df[\"DATA_SITUACAO_NF\"][\"DT_STATUS\"] = generate_date_column(data_length)\n",
    "df[\"DATA_SITUACAO_NF\"][\"SITUACAO_NF_CO_SITUACAO\"] = generate_varchar_column(data_length)\n",
    "df[\"DATA_SITUACAO_NF\"][\"TP_ORIGEM_ATUALIZACAO\"] = generate_number_in_range_column(data_length,max_range=3)\n",
    "df[\"DATA_SITUACAO_NF\"][\"CO_CHAVE_ACESSO_CANCELAMENTO\"] = generate_varchar_column(data_length,61)\n",
    "print(df[\"DATA_SITUACAO_NF\"].head())"
   ]
  },
  {
   "cell_type": "markdown",
   "metadata": {},
   "source": [
    "### Dummy data for IS_VW_ESTAB_EMPRESA"
   ]
  },
  {
   "cell_type": "code",
   "execution_count": 110,
   "metadata": {},
   "outputs": [
    {
     "name": "stdout",
     "output_type": "stream",
     "text": [
      "   id  SQ_ESTABELECIMENTO  SQ_INSCRICAO_ESTABELECIMENTO  \\\n",
      "0   0           220539186                     900125937   \n",
      "1   1           931363086                      49236722   \n",
      "2   2           679688403                     525610878   \n",
      "3   3           818068752                     220418044   \n",
      "4   4           909322423                     743296735   \n",
      "\n",
      "   NU_INSCRICAO_ESTADUAL DT_CONCESSAO_INSCRICAO  SQ_ATIVIDADE_ECONOMICA  \\\n",
      "0               45458602             2006-11-11               768113364   \n",
      "1               98505540             2016-01-06               500113655   \n",
      "2               59268353             2017-08-20               569101680   \n",
      "3               22836470             1992-07-31                15688001   \n",
      "4               16163408             1991-01-25               582296427   \n",
      "\n",
      "  CO_ATIVIDADE_ECONOMICA                             NO_ATIVIDADE_ECONOMICA  \\\n",
      "0                IL6G4Z7  KOZIFN1Y4RQ1HFECY6OF4490MKVEN1BX34UQ9AZJYB168J...   \n",
      "1                QCXGIE7  JR6OVO6975LBY6DOG4C7G6UCHN3MQMY92I0VSAV0IVDT6V...   \n",
      "2                C9GO3BS  B9WORALOCMZFHNAGTQ9YX7U1PZDT6NOLMBHNOBE0MNJ2MD...   \n",
      "3                PTEDB6R  PNJO7M5DXF23402HX5ZGV2O39CT9UTJ2FWZUS3M6D5ZYOF...   \n",
      "4                J6ZCC8Y  PA3V1PUE2BNPSIHQPGF897O2PG6JC6AKFRVSE9OKADU9WK...   \n",
      "\n",
      "   SQ_VERSAO_TABELA_ATIVIDADES  SQ_NIVEL_ATIVIDADE_ECONOMICA  IN_PRINCIPAL  \\\n",
      "0                    742143817                     947000167             8   \n",
      "1                    433437888                     922892684             1   \n",
      "2                    255974982                     222468855             2   \n",
      "3                    484185440                     489359312             0   \n",
      "4                    538217080                     946368326             8   \n",
      "\n",
      "  DT_INICIO_EXERCICIO    NU_ORDEM  \n",
      "0          2017-07-17  6967051028  \n",
      "1          1993-07-29           4  \n",
      "2          1992-01-10        3672  \n",
      "3          1999-10-01     5050513  \n",
      "4          2020-01-14    56050819  \n"
     ]
    }
   ],
   "source": [
    "df[\"DATA_IS_VW_ESTAB_EMPRESA\"][\"SQ_ESTABELECIMENTO\"] = generate_number_column(data_length,9)\n",
    "df[\"DATA_IS_VW_ESTAB_EMPRESA\"][\"SQ_INSCRICAO_ESTABELECIMENTO\"] = generate_number_column(data_length,9)\n",
    "df[\"DATA_IS_VW_ESTAB_EMPRESA\"][\"NU_INSCRICAO_ESTADUAL\"] = generate_number_column(data_length,8)\n",
    "df[\"DATA_IS_VW_ESTAB_EMPRESA\"][\"DT_CONCESSAO_INSCRICAO\"] = generate_date_column(data_length)\n",
    "df[\"DATA_IS_VW_ESTAB_EMPRESA\"][\"SQ_ATIVIDADE_ECONOMICA\"] = generate_number_column(data_length,9)\n",
    "df[\"DATA_IS_VW_ESTAB_EMPRESA\"][\"CO_ATIVIDADE_ECONOMICA\"] = generate_varchar_column(data_length,7)\n",
    "df[\"DATA_IS_VW_ESTAB_EMPRESA\"][\"NO_ATIVIDADE_ECONOMICA\"] = generate_varchar_column(data_length,200)\n",
    "df[\"DATA_IS_VW_ESTAB_EMPRESA\"][\"SQ_VERSAO_TABELA_ATIVIDADES\"] = generate_number_column(data_length,9)\n",
    "df[\"DATA_IS_VW_ESTAB_EMPRESA\"][\"SQ_NIVEL_ATIVIDADE_ECONOMICA\"] = generate_number_column(data_length,9)\n",
    "df[\"DATA_IS_VW_ESTAB_EMPRESA\"][\"IN_PRINCIPAL\"] = generate_number_column(data_length,1)\n",
    "df[\"DATA_IS_VW_ESTAB_EMPRESA\"][\"DT_INICIO_EXERCICIO\"] = generate_date_column(data_length)\n",
    "df[\"DATA_IS_VW_ESTAB_EMPRESA\"][\"NU_ORDEM\"] = generate_number_column(data_length)\n",
    "print(df[\"DATA_IS_VW_ESTAB_EMPRESA\"].head())"
   ]
  },
  {
   "cell_type": "code",
   "execution_count": null,
   "metadata": {},
   "outputs": [],
   "source": []
  }
 ],
 "metadata": {
  "kernelspec": {
   "display_name": "Python 3",
   "language": "python",
   "name": "python3"
  },
  "language_info": {
   "codemirror_mode": {
    "name": "ipython",
    "version": 3
   },
   "file_extension": ".py",
   "mimetype": "text/x-python",
   "name": "python",
   "nbconvert_exporter": "python",
   "pygments_lexer": "ipython3",
   "version": "3.6.9"
  }
 },
 "nbformat": 4,
 "nbformat_minor": 2
}

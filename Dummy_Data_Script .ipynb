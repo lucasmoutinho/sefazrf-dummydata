{
 "cells": [
  {
   "cell_type": "markdown",
   "metadata": {},
   "source": [
    "## Dummy Data for POC Sefaz RJ\n",
    "- Developers: Lucas Moutinho, Victor Ciurlini\n",
    "- Code developed by team Ninjas Vert: Soluções em TIC\n",
    "\n",
    "<br>\n",
    "<img src=\"image/sefaz.jpg\" width=\"400\" height=\"200\">"
   ]
  },
  {
   "cell_type": "markdown",
   "metadata": {},
   "source": [
    "### Create tables"
   ]
  },
  {
   "cell_type": "code",
   "execution_count": 16,
   "metadata": {},
   "outputs": [],
   "source": [
    "import pandas as pd\n",
    "import random\n",
    "import string\n",
    "import datetime\n",
    "import matplotlib.pyplot as plt"
   ]
  },
  {
   "cell_type": "code",
   "execution_count": 11,
   "metadata": {},
   "outputs": [
    {
     "name": "stdout",
     "output_type": "stream",
     "text": [
      "{'data_nota_fiscal':       id\n",
      "0      0\n",
      "1      1\n",
      "2      2\n",
      "3      3\n",
      "4      4\n",
      "..   ...\n",
      "295  295\n",
      "296  296\n",
      "297  297\n",
      "298  298\n",
      "299  299\n",
      "\n",
      "[300 rows x 1 columns], 'data_produto_servico':       id\n",
      "0      0\n",
      "1      1\n",
      "2      2\n",
      "3      3\n",
      "4      4\n",
      "..   ...\n",
      "295  295\n",
      "296  296\n",
      "297  297\n",
      "298  298\n",
      "299  299\n",
      "\n",
      "[300 rows x 1 columns], 'data_situacao_nf':       id\n",
      "0      0\n",
      "1      1\n",
      "2      2\n",
      "3      3\n",
      "4      4\n",
      "..   ...\n",
      "295  295\n",
      "296  296\n",
      "297  297\n",
      "298  298\n",
      "299  299\n",
      "\n",
      "[300 rows x 1 columns], 'data_produto':       id\n",
      "0      0\n",
      "1      1\n",
      "2      2\n",
      "3      3\n",
      "4      4\n",
      "..   ...\n",
      "295  295\n",
      "296  296\n",
      "297  297\n",
      "298  298\n",
      "299  299\n",
      "\n",
      "[300 rows x 1 columns], 'data_empresa':       id\n",
      "0      0\n",
      "1      1\n",
      "2      2\n",
      "3      3\n",
      "4      4\n",
      "..   ...\n",
      "295  295\n",
      "296  296\n",
      "297  297\n",
      "298  298\n",
      "299  299\n",
      "\n",
      "[300 rows x 1 columns]}\n"
     ]
    }
   ],
   "source": [
    "data_tables = [\"nota_fiscal\", \"produto_servico\", \"situacao_nf\", \"produto\", \"empresa\"]\n",
    "df = {}\n",
    "data_length = 300\n",
    "for x in data_tables:\n",
    "    data = {\"id\": [x for x in range(data_length)]}\n",
    "    df[\"data_{0}\".format(x)] = pd.DataFrame(data)\n",
    "print(df)"
   ]
  },
  {
   "cell_type": "markdown",
   "metadata": {},
   "source": [
    "### Dummy data for situacao_nf"
   ]
  },
  {
   "cell_type": "code",
   "execution_count": 26,
   "metadata": {},
   "outputs": [
    {
     "name": "stdout",
     "output_type": "stream",
     "text": [
      "0    UP2OEAY8DMC1P595LRLFDSKXOHA2CBZSFOGY87NXUVTS8D...\n",
      "1    EJRERWG0VLQK9D29CVGWF9MKA74WP4GD2SAV5XXNCTNR9U...\n",
      "2    2JIA1WQXJP66FLYJZYWVW5TTZJF10CNDC2W00RKTVQ3P1Y...\n",
      "3    2TLH693XL2A5P982I587GE6W9FJ6BNEAIB1ONAVRI885SM...\n",
      "4    O1NUFRCWY0SHEMY8T22R5NJJCW8NMN6SW6YJSZV02Q1WMV...\n",
      "Name: CO_CHAVE_ACESSO, dtype: object\n"
     ]
    }
   ],
   "source": [
    "co_chave = []\n",
    "for _ in range(data_length):\n",
    "    co_chave.append(''.join(random.choices(string.ascii_uppercase + string.digits, k=61)))\n",
    "df[\"data_situacao_nf\"][\"CO_CHAVE_ACESSO\"] = co_chave\n",
    "print(df[\"data_situacao_nf\"][\"CO_CHAVE_ACESSO\"].head())"
   ]
  },
  {
   "cell_type": "code",
   "execution_count": 25,
   "metadata": {},
   "outputs": [
    {
     "name": "stdout",
     "output_type": "stream",
     "text": [
      "0   2002-07-04\n",
      "1   2007-03-13\n",
      "2   2015-12-01\n",
      "3   1994-12-22\n",
      "4   2017-06-30\n",
      "Name: DT_STATUS, dtype: datetime64[ns]\n"
     ]
    }
   ],
   "source": [
    "dt_status = []\n",
    "for _ in range(data_length):\n",
    "    date = datetime.datetime.strptime('{} {}'.format(random.randint(1, 366), random.randint(1990,2020)), '%j %Y')\n",
    "    dt_status.append(date)\n",
    "df[\"data_situacao_nf\"][\"DT_STATUS\"] = dt_status\n",
    "print(df[\"data_situacao_nf\"][\"DT_STATUS\"].head())"
   ]
  },
  {
   "cell_type": "code",
   "execution_count": null,
   "metadata": {},
   "outputs": [],
   "source": []
  }
 ],
 "metadata": {
  "kernelspec": {
   "display_name": "Python 3",
   "language": "python",
   "name": "python3"
  },
  "language_info": {
   "codemirror_mode": {
    "name": "ipython",
    "version": 3
   },
   "file_extension": ".py",
   "mimetype": "text/x-python",
   "name": "python",
   "nbconvert_exporter": "python",
   "pygments_lexer": "ipython3",
   "version": "3.6.9"
  }
 },
 "nbformat": 4,
 "nbformat_minor": 2
}

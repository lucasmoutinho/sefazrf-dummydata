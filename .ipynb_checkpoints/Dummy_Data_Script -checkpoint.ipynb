{
 "cells": [
  {
   "cell_type": "markdown",
   "metadata": {},
   "source": [
    "## Dummy Data for POC Sefaz RJ\n",
    "- Developers: Lucas Moutinho, Victor Ciurlini\n",
    "- Code developed by team Ninjas Vert: Soluções em TIC\n",
    "\n",
    "<br>\n",
    "<img src=\"image/sefaz.jpg\" width=\"400\" height=\"200\">"
   ]
  },
  {
   "cell_type": "markdown",
   "metadata": {},
   "source": [
    "### Create tables"
   ]
  },
  {
   "cell_type": "code",
   "execution_count": 16,
   "metadata": {},
   "outputs": [],
   "source": [
    "import pandas as pd\n",
    "import random\n",
    "import string\n",
    "import datetime\n",
    "import matplotlib.pyplot as plt"
   ]
  },
  {
   "cell_type": "code",
   "execution_count": 28,
   "metadata": {},
   "outputs": [
    {
     "name": "stdout",
     "output_type": "stream",
     "text": [
      "{'DATA_NOTA_FISCAL':       id\n",
      "0      0\n",
      "1      1\n",
      "2      2\n",
      "3      3\n",
      "4      4\n",
      "..   ...\n",
      "295  295\n",
      "296  296\n",
      "297  297\n",
      "298  298\n",
      "299  299\n",
      "\n",
      "[300 rows x 1 columns], 'DATA_PRODUTO_SERVICO':       id\n",
      "0      0\n",
      "1      1\n",
      "2      2\n",
      "3      3\n",
      "4      4\n",
      "..   ...\n",
      "295  295\n",
      "296  296\n",
      "297  297\n",
      "298  298\n",
      "299  299\n",
      "\n",
      "[300 rows x 1 columns], 'DATA_SITUACAO_NF':       id\n",
      "0      0\n",
      "1      1\n",
      "2      2\n",
      "3      3\n",
      "4      4\n",
      "..   ...\n",
      "295  295\n",
      "296  296\n",
      "297  297\n",
      "298  298\n",
      "299  299\n",
      "\n",
      "[300 rows x 1 columns], 'DATA_PRODUTO':       id\n",
      "0      0\n",
      "1      1\n",
      "2      2\n",
      "3      3\n",
      "4      4\n",
      "..   ...\n",
      "295  295\n",
      "296  296\n",
      "297  297\n",
      "298  298\n",
      "299  299\n",
      "\n",
      "[300 rows x 1 columns], 'DATA_IS_VW_ESTAB_EMPRESA':       id\n",
      "0      0\n",
      "1      1\n",
      "2      2\n",
      "3      3\n",
      "4      4\n",
      "..   ...\n",
      "295  295\n",
      "296  296\n",
      "297  297\n",
      "298  298\n",
      "299  299\n",
      "\n",
      "[300 rows x 1 columns], 'DATA_IS_VW_ESTAB_ATV_ECO':       id\n",
      "0      0\n",
      "1      1\n",
      "2      2\n",
      "3      3\n",
      "4      4\n",
      "..   ...\n",
      "295  295\n",
      "296  296\n",
      "297  297\n",
      "298  298\n",
      "299  299\n",
      "\n",
      "[300 rows x 1 columns]}\n"
     ]
    }
   ],
   "source": [
    "data_tables = [\"NOTA_FISCAL\", \"PRODUTO_SERVICO\", \"SITUACAO_NF\", \"PRODUTO\", \"IS_VW_ESTAB_EMPRESA\", \"IS_VW_ESTAB_ATV_ECO\"]\n",
    "df = {}\n",
    "data_length = 300\n",
    "for x in data_tables:\n",
    "    data = {\"id\": [x for x in range(data_length)]}\n",
    "    df[\"DATA_{0}\".format(x)] = pd.DataFrame(data)\n",
    "print(df)"
   ]
  },
  {
   "cell_type": "markdown",
   "metadata": {},
   "source": [
    "### Dummy data for situacao_nf"
   ]
  },
  {
   "cell_type": "code",
   "execution_count": 29,
   "metadata": {},
   "outputs": [
    {
     "name": "stdout",
     "output_type": "stream",
     "text": [
      "0    XAKKDEY6B1KF8YYRKQNBMWA1JYVP4PA43WEWYT0NP4F7R9...\n",
      "1    6XT1N9X9RBJF7U4XMWQA5CM8C09I0EQPO0L1IKACW8G0NX...\n",
      "2    SI6N1NUOZ87MSY4Y72S8W9O6PLNBDSR58REX9UYW4KQD2I...\n",
      "3    P9F7V9TFAV0UTQCYM3WW4RL0WDO55OYOZG3HU8B5OXA7KZ...\n",
      "4    RFCEDD7KGTZMEN4JUV9VSBOFSQTOI7K0MH0L47DJRFGMMB...\n",
      "Name: CO_CHAVE_ACESSO, dtype: object\n"
     ]
    }
   ],
   "source": [
    "co_chave = []\n",
    "for _ in range(data_length):\n",
    "    co_chave.append(''.join(random.choices(string.ascii_uppercase + string.digits, k=61)))\n",
    "df[\"DATA_SITUACAO_NF\"][\"CO_CHAVE_ACESSO\"] = co_chave\n",
    "print(df[\"DATA_SITUACAO_NF\"][\"CO_CHAVE_ACESSO\"].head())"
   ]
  },
  {
   "cell_type": "code",
   "execution_count": 30,
   "metadata": {},
   "outputs": [
    {
     "name": "stdout",
     "output_type": "stream",
     "text": [
      "0   2008-03-08\n",
      "1   1992-09-29\n",
      "2   2016-04-12\n",
      "3   2009-06-28\n",
      "4   2003-01-07\n",
      "Name: DT_STATUS, dtype: datetime64[ns]\n"
     ]
    }
   ],
   "source": [
    "dt_status = []\n",
    "for _ in range(data_length):\n",
    "    date = datetime.datetime.strptime('{} {}'.format(random.randint(1, 366), random.randint(1990,2020)), '%j %Y')\n",
    "    dt_status.append(date)\n",
    "df[\"DATA_SITUACAO_NF\"][\"DT_STATUS\"] = dt_status\n",
    "print(df[\"DATA_SITUACAO_NF\"][\"DT_STATUS\"].head())"
   ]
  },
  {
   "cell_type": "code",
   "execution_count": null,
   "metadata": {},
   "outputs": [],
   "source": []
  }
 ],
 "metadata": {
  "kernelspec": {
   "display_name": "Python 3",
   "language": "python",
   "name": "python3"
  },
  "language_info": {
   "codemirror_mode": {
    "name": "ipython",
    "version": 3
   },
   "file_extension": ".py",
   "mimetype": "text/x-python",
   "name": "python",
   "nbconvert_exporter": "python",
   "pygments_lexer": "ipython3",
   "version": "3.6.9"
  }
 },
 "nbformat": 4,
 "nbformat_minor": 2
}

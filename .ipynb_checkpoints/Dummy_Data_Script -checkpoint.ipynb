{
 "cells": [
  {
   "cell_type": "markdown",
   "metadata": {},
   "source": [
    "## Dummy Data for POC Sefaz RJ\n",
    "- Developers: Lucas Moutinho, Victor Ciurlini\n",
    "- Code developed by team Ninjas Vert: Soluções em TIC\n",
    "\n",
    "<br>\n",
    "<img src=\"image/sefaz.jpg\" width=\"400\" height=\"200\">"
   ]
  },
  {
   "cell_type": "markdown",
   "metadata": {},
   "source": [
    "### Create tables"
   ]
  },
  {
   "cell_type": "code",
   "execution_count": 16,
   "metadata": {},
   "outputs": [],
   "source": [
    "import pandas as pd\n",
    "import random\n",
    "import string\n",
    "import datetime\n",
    "import matplotlib.pyplot as plt"
   ]
  },
  {
   "cell_type": "code",
   "execution_count": 28,
   "metadata": {},
   "outputs": [
    {
     "name": "stdout",
     "output_type": "stream",
     "text": [
      "{'DATA_NOTA_FISCAL':       id\n",
      "0      0\n",
      "1      1\n",
      "2      2\n",
      "3      3\n",
      "4      4\n",
      "..   ...\n",
      "295  295\n",
      "296  296\n",
      "297  297\n",
      "298  298\n",
      "299  299\n",
      "\n",
      "[300 rows x 1 columns], 'DATA_PRODUTO_SERVICO':       id\n",
      "0      0\n",
      "1      1\n",
      "2      2\n",
      "3      3\n",
      "4      4\n",
      "..   ...\n",
      "295  295\n",
      "296  296\n",
      "297  297\n",
      "298  298\n",
      "299  299\n",
      "\n",
      "[300 rows x 1 columns], 'DATA_SITUACAO_NF':       id\n",
      "0      0\n",
      "1      1\n",
      "2      2\n",
      "3      3\n",
      "4      4\n",
      "..   ...\n",
      "295  295\n",
      "296  296\n",
      "297  297\n",
      "298  298\n",
      "299  299\n",
      "\n",
      "[300 rows x 1 columns], 'DATA_PRODUTO':       id\n",
      "0      0\n",
      "1      1\n",
      "2      2\n",
      "3      3\n",
      "4      4\n",
      "..   ...\n",
      "295  295\n",
      "296  296\n",
      "297  297\n",
      "298  298\n",
      "299  299\n",
      "\n",
      "[300 rows x 1 columns], 'DATA_IS_VW_ESTAB_EMPRESA':       id\n",
      "0      0\n",
      "1      1\n",
      "2      2\n",
      "3      3\n",
      "4      4\n",
      "..   ...\n",
      "295  295\n",
      "296  296\n",
      "297  297\n",
      "298  298\n",
      "299  299\n",
      "\n",
      "[300 rows x 1 columns], 'DATA_IS_VW_ESTAB_ATV_ECO':       id\n",
      "0      0\n",
      "1      1\n",
      "2      2\n",
      "3      3\n",
      "4      4\n",
      "..   ...\n",
      "295  295\n",
      "296  296\n",
      "297  297\n",
      "298  298\n",
      "299  299\n",
      "\n",
      "[300 rows x 1 columns]}\n"
     ]
    }
   ],
   "source": [
    "data_tables = [\"NOTA_FISCAL\", \"PRODUTO_SERVICO\", \"SITUACAO_NF\", \"PRODUTO\", \"IS_VW_ESTAB_EMPRESA\", \"IS_VW_ESTAB_ATV_ECO\"]\n",
    "df = {}\n",
    "data_length = 300\n",
    "for x in data_tables:\n",
    "    data = {\"id\": [x for x in range(data_length)]}\n",
    "    df[\"DATA_{0}\".format(x)] = pd.DataFrame(data)\n",
    "print(df)"
   ]
  },
  {
   "cell_type": "markdown",
   "metadata": {},
   "source": [
    "### Dummy data for SITUACAO_NF"
   ]
  },
  {
   "cell_type": "code",
   "execution_count": 41,
   "metadata": {},
   "outputs": [
    {
     "name": "stdout",
     "output_type": "stream",
     "text": [
      "0    952ELEPOQ0QDRQYS0IG044PKQFYLI6TKT5O3OZRINBYCF0...\n",
      "1    YKPJVPO6R1AVZ1TELUJ3PDBH7ZPIDQHK1ZFZ7S7JSDJWZD...\n",
      "2    N51OVEDOAUU6M7PXXPB7AZXZZ1PH5CJX7RMM3WIUPO0826...\n",
      "3    D0ZNKR9IFD7P983EH91O1NIFJH3RGG1K47H1YAZT1EV4ZC...\n",
      "4    78Q4KIAPK7EVY5K0LA3LXVRDE97X30UGWKC4Z0ST7SY7R1...\n",
      "Name: CO_CHAVE_ACESSO, dtype: object\n"
     ]
    }
   ],
   "source": [
    "co_chave_acesso = []\n",
    "for _ in range(data_length):\n",
    "    co_chave_acesso.append(''.join(random.choices(string.ascii_uppercase + string.digits, k=61)))\n",
    "df[\"DATA_SITUACAO_NF\"][\"CO_CHAVE_ACESSO\"] = co_chave_acesso\n",
    "print(df[\"DATA_SITUACAO_NF\"][\"CO_CHAVE_ACESSO\"].head())"
   ]
  },
  {
   "cell_type": "code",
   "execution_count": 30,
   "metadata": {},
   "outputs": [
    {
     "name": "stdout",
     "output_type": "stream",
     "text": [
      "0   2008-03-08\n",
      "1   1992-09-29\n",
      "2   2016-04-12\n",
      "3   2009-06-28\n",
      "4   2003-01-07\n",
      "Name: DT_STATUS, dtype: datetime64[ns]\n"
     ]
    }
   ],
   "source": [
    "dt_status = []\n",
    "for _ in range(data_length):\n",
    "    date = datetime.datetime.strptime('{} {}'.format(random.randint(1, 366), random.randint(1990,2020)), '%j %Y')\n",
    "    dt_status.append(date)\n",
    "df[\"DATA_SITUACAO_NF\"][\"DT_STATUS\"] = dt_status\n",
    "print(df[\"DATA_SITUACAO_NF\"][\"DT_STATUS\"].head())"
   ]
  },
  {
   "cell_type": "code",
   "execution_count": 32,
   "metadata": {},
   "outputs": [
    {
     "name": "stdout",
     "output_type": "stream",
     "text": [
      "0     08508661\n",
      "1         1347\n",
      "2       051564\n",
      "3    299257017\n",
      "4       942344\n",
      "Name: SITUACAO_NF_CO_SITUACAO, dtype: object\n"
     ]
    }
   ],
   "source": [
    "situacao_nf_co_situacao = []\n",
    "for _ in range(data_length):\n",
    "    situacao_nf_co_situacao.append(''.join(random.choices(string.digits, k=random.randint(1,10))))\n",
    "df[\"DATA_SITUACAO_NF\"][\"SITUACAO_NF_CO_SITUACAO\"] = situacao_nf_co_situacao\n",
    "print(df[\"DATA_SITUACAO_NF\"][\"SITUACAO_NF_CO_SITUACAO\"].head())"
   ]
  },
  {
   "cell_type": "code",
   "execution_count": 40,
   "metadata": {},
   "outputs": [
    {
     "name": "stdout",
     "output_type": "stream",
     "text": [
      "0    2\n",
      "1    2\n",
      "2    1\n",
      "3    2\n",
      "4    2\n",
      "Name: TP_ORIGEM_ATUALIZACAO, dtype: int64\n"
     ]
    }
   ],
   "source": [
    "tp_origem_atualizacao = []\n",
    "for _ in range(data_length):\n",
    "    tp_origem_atualizacao.append(random.randint(1,3))\n",
    "df[\"DATA_SITUACAO_NF\"][\"TP_ORIGEM_ATUALIZACAO\"] = tp_origem_atualizacao\n",
    "print(df[\"DATA_SITUACAO_NF\"][\"TP_ORIGEM_ATUALIZACAO\"].head())"
   ]
  },
  {
   "cell_type": "code",
   "execution_count": 42,
   "metadata": {},
   "outputs": [
    {
     "name": "stdout",
     "output_type": "stream",
     "text": [
      "0    MHFAOHF4TT3V59VEAFAXB2VGI1GWTVXQZFMP4F4O0IVDDA...\n",
      "1    5NWW7AUO6LKV7JUPQDFNZ68WN3WG994XFQROO92HX8EXJ0...\n",
      "2    GBC56BXQ8CZAZBKBN0TPJEE5R1YMHJR5VVF429271FQML1...\n",
      "3    0LJSJXT9GO1U9VE5CRZYOFXGJ0W2241TYXFCRODJ01WBKH...\n",
      "4    M3HQ2Q1B5RGONR27AY0WPK39DP8ODPS7QUBADMLAX9S6HX...\n",
      "Name: CO_CHAVE_ACESSO_CANCELAMENTO, dtype: object\n"
     ]
    }
   ],
   "source": [
    "co_chave_acesso_cancelamento = []\n",
    "for _ in range(data_length):\n",
    "    co_chave_acesso_cancelamento.append(''.join(random.choices(string.ascii_uppercase + string.digits, k=61)))\n",
    "df[\"DATA_SITUACAO_NF\"][\"CO_CHAVE_ACESSO_CANCELAMENTO\"] = co_chave_acesso_cancelamento\n",
    "print(df[\"DATA_SITUACAO_NF\"][\"CO_CHAVE_ACESSO_CANCELAMENTO\"].head())"
   ]
  },
  {
   "cell_type": "code",
   "execution_count": 43,
   "metadata": {},
   "outputs": [
    {
     "name": "stdout",
     "output_type": "stream",
     "text": [
      "   id                                    CO_CHAVE_ACESSO  DT_STATUS  \\\n",
      "0   0  952ELEPOQ0QDRQYS0IG044PKQFYLI6TKT5O3OZRINBYCF0... 2008-03-08   \n",
      "1   1  YKPJVPO6R1AVZ1TELUJ3PDBH7ZPIDQHK1ZFZ7S7JSDJWZD... 1992-09-29   \n",
      "2   2  N51OVEDOAUU6M7PXXPB7AZXZZ1PH5CJX7RMM3WIUPO0826... 2016-04-12   \n",
      "3   3  D0ZNKR9IFD7P983EH91O1NIFJH3RGG1K47H1YAZT1EV4ZC... 2009-06-28   \n",
      "4   4  78Q4KIAPK7EVY5K0LA3LXVRDE97X30UGWKC4Z0ST7SY7R1... 2003-01-07   \n",
      "\n",
      "  SITUACAO_NF_CO_SITUACAO  TP_ORIGEM_ATUALIZACAO  \\\n",
      "0                08508661                      2   \n",
      "1                    1347                      2   \n",
      "2                  051564                      1   \n",
      "3               299257017                      2   \n",
      "4                  942344                      2   \n",
      "\n",
      "                        CO_CHAVE_ACESSO_CANCELAMENTO  \n",
      "0  MHFAOHF4TT3V59VEAFAXB2VGI1GWTVXQZFMP4F4O0IVDDA...  \n",
      "1  5NWW7AUO6LKV7JUPQDFNZ68WN3WG994XFQROO92HX8EXJ0...  \n",
      "2  GBC56BXQ8CZAZBKBN0TPJEE5R1YMHJR5VVF429271FQML1...  \n",
      "3  0LJSJXT9GO1U9VE5CRZYOFXGJ0W2241TYXFCRODJ01WBKH...  \n",
      "4  M3HQ2Q1B5RGONR27AY0WPK39DP8ODPS7QUBADMLAX9S6HX...  \n"
     ]
    }
   ],
   "source": [
    "print(df[\"DATA_SITUACAO_NF\"].head())"
   ]
  },
  {
   "cell_type": "markdown",
   "metadata": {},
   "source": [
    "### Dummy data for IS_VW_ESTAB_EMPRESA"
   ]
  },
  {
   "cell_type": "code",
   "execution_count": 44,
   "metadata": {},
   "outputs": [
    {
     "name": "stdout",
     "output_type": "stream",
     "text": [
      "0    130430855\n",
      "1    762041833\n",
      "2    721033354\n",
      "3    012953063\n",
      "4    745868934\n",
      "Name: SQ_ESTABELECIMENTO, dtype: object\n"
     ]
    }
   ],
   "source": [
    "sq_estabelecimento = []\n",
    "for _ in range(data_length):\n",
    "    sq_estabelecimento.append(''.join(random.choices(string.digits, k=9)))\n",
    "df[\"DATA_IS_VW_ESTAB_EMPRESA\"][\"SQ_ESTABELECIMENTO\"] = sq_estabelecimento\n",
    "print(df[\"DATA_IS_VW_ESTAB_EMPRESA\"][\"SQ_ESTABELECIMENTO\"].head())"
   ]
  },
  {
   "cell_type": "code",
   "execution_count": 45,
   "metadata": {},
   "outputs": [
    {
     "name": "stdout",
     "output_type": "stream",
     "text": [
      "0    685695549\n",
      "1    003723591\n",
      "2    958888098\n",
      "3    198782325\n",
      "4    418319370\n",
      "Name: SQ_INSCRICAO_ESTABELECIMENTO, dtype: object\n"
     ]
    }
   ],
   "source": [
    "sq_inscricao_estabelecimento = []\n",
    "for _ in range(data_length):\n",
    "    sq_inscricao_estabelecimento.append(''.join(random.choices(string.digits, k=9)))\n",
    "df[\"DATA_IS_VW_ESTAB_EMPRESA\"][\"SQ_INSCRICAO_ESTABELECIMENTO\"] = sq_inscricao_estabelecimento\n",
    "print(df[\"DATA_IS_VW_ESTAB_EMPRESA\"][\"SQ_INSCRICAO_ESTABELECIMENTO\"].head())"
   ]
  },
  {
   "cell_type": "code",
   "execution_count": 46,
   "metadata": {},
   "outputs": [
    {
     "name": "stdout",
     "output_type": "stream",
     "text": [
      "0    33458145\n",
      "1    89948034\n",
      "2    57868263\n",
      "3    87499908\n",
      "4    24184394\n",
      "Name: NU_INSCRICAO_ESTADUAL, dtype: object\n"
     ]
    }
   ],
   "source": [
    "nu_inscricao_estadual = []\n",
    "for _ in range(data_length):\n",
    "    nu_inscricao_estadual.append(''.join(random.choices(string.digits, k=8)))\n",
    "df[\"DATA_IS_VW_ESTAB_EMPRESA\"][\"NU_INSCRICAO_ESTADUAL\"] = nu_inscricao_estadual\n",
    "print(df[\"DATA_IS_VW_ESTAB_EMPRESA\"][\"NU_INSCRICAO_ESTADUAL\"].head())"
   ]
  },
  {
   "cell_type": "code",
   "execution_count": 64,
   "metadata": {},
   "outputs": [
    {
     "name": "stdout",
     "output_type": "stream",
     "text": [
      "0   2003-01-12\n",
      "1   1992-03-25\n",
      "2   2020-06-12\n",
      "3   1990-04-20\n",
      "4   1991-10-03\n",
      "Name: DT_CONCESSAO_INSCRICAO, dtype: datetime64[ns]\n"
     ]
    }
   ],
   "source": [
    "dt_concessao_inscricao = []\n",
    "for _ in range(data_length):\n",
    "    date = datetime.datetime.strptime('{} {}'.format(random.randint(1, 366), random.randint(1990,2020)), '%j %Y')\n",
    "    dt_concessao_inscricao.append(date)\n",
    "df[\"DATA_IS_VW_ESTAB_EMPRESA\"][\"DT_CONCESSAO_INSCRICAO\"] = dt_concessao_inscricao\n",
    "print(df[\"DATA_IS_VW_ESTAB_EMPRESA\"][\"DT_CONCESSAO_INSCRICAO\"].head())"
   ]
  },
  {
   "cell_type": "code",
   "execution_count": 49,
   "metadata": {},
   "outputs": [
    {
     "name": "stdout",
     "output_type": "stream",
     "text": [
      "0    488071805\n",
      "1    109600399\n",
      "2    275365307\n",
      "3    321839936\n",
      "4    934812838\n",
      "Name: SQ_ATIVIDADE_ECONOMICA, dtype: object\n"
     ]
    }
   ],
   "source": [
    "sq_atividade_economica = []\n",
    "for _ in range(data_length):\n",
    "    sq_atividade_economica.append(''.join(random.choices(string.digits, k=9)))\n",
    "df[\"DATA_IS_VW_ESTAB_EMPRESA\"][\"SQ_ATIVIDADE_ECONOMICA\"] = sq_atividade_economica\n",
    "print(df[\"DATA_IS_VW_ESTAB_EMPRESA\"][\"SQ_ATIVIDADE_ECONOMICA\"].head())"
   ]
  },
  {
   "cell_type": "code",
   "execution_count": 53,
   "metadata": {},
   "outputs": [
    {
     "name": "stdout",
     "output_type": "stream",
     "text": [
      "0    UI83IUK\n",
      "1    J98XH2W\n",
      "2    5JTPZ3E\n",
      "3    9GXEKSJ\n",
      "4    EEYQ1E4\n",
      "Name: CO_ATIVIDADE_ECONOMICA, dtype: object\n"
     ]
    }
   ],
   "source": [
    "co_atividade_economica = []\n",
    "for _ in range(data_length):\n",
    "    co_atividade_economica.append(''.join(random.choices(string.ascii_uppercase + string.digits, k=7)))\n",
    "df[\"DATA_IS_VW_ESTAB_EMPRESA\"][\"CO_ATIVIDADE_ECONOMICA\"] = co_atividade_economica\n",
    "print(df[\"DATA_IS_VW_ESTAB_EMPRESA\"][\"CO_ATIVIDADE_ECONOMICA\"].head())"
   ]
  },
  {
   "cell_type": "code",
   "execution_count": 54,
   "metadata": {},
   "outputs": [
    {
     "name": "stdout",
     "output_type": "stream",
     "text": [
      "0    2SNJEKFUWD3YQL4DIBJ4VBL8M7P87L5J3GP2XI2KINYO51...\n",
      "1    F1CN9XNH4JNFJ67RNIZGT9REUPOSSR6AFUOCFR4EBD8BVU...\n",
      "2    Q789KSN98T6JY0NLK6IRNMGN1ZIDQVX7SSIWX6L3V6KNVO...\n",
      "3    T5FND8FEARZ7U7SHIMIRM395KSZSDZ04WZ2EHMUK02KPA0...\n",
      "4    1DWHIXDAXW40S88ELMVSJAOS972WRKU9E5UVP4ZPXFJYI5...\n",
      "Name: NO_ATIVIDADE_ECONOMICA, dtype: object\n"
     ]
    }
   ],
   "source": [
    "no_atividade_economica = []\n",
    "for _ in range(data_length):\n",
    "    no_atividade_economica.append(''.join(random.choices(string.ascii_uppercase + string.digits, k=200)))\n",
    "df[\"DATA_IS_VW_ESTAB_EMPRESA\"][\"NO_ATIVIDADE_ECONOMICA\"] = no_atividade_economica\n",
    "print(df[\"DATA_IS_VW_ESTAB_EMPRESA\"][\"NO_ATIVIDADE_ECONOMICA\"].head())"
   ]
  },
  {
   "cell_type": "code",
   "execution_count": 55,
   "metadata": {},
   "outputs": [
    {
     "name": "stdout",
     "output_type": "stream",
     "text": [
      "0    606633739\n",
      "1    113825008\n",
      "2    465879466\n",
      "3    734853121\n",
      "4    765624241\n",
      "Name: SQ_VERSAO_TABELA_ATIVIDADES, dtype: object\n"
     ]
    }
   ],
   "source": [
    "sq_versao_tabela_atividades = []\n",
    "for _ in range(data_length):\n",
    "    sq_versao_tabela_atividades.append(''.join(random.choices(string.digits, k=9)))\n",
    "df[\"DATA_IS_VW_ESTAB_EMPRESA\"][\"SQ_VERSAO_TABELA_ATIVIDADES\"] = sq_versao_tabela_atividades\n",
    "print(df[\"DATA_IS_VW_ESTAB_EMPRESA\"][\"SQ_VERSAO_TABELA_ATIVIDADES\"].head())"
   ]
  },
  {
   "cell_type": "code",
   "execution_count": 56,
   "metadata": {},
   "outputs": [
    {
     "name": "stdout",
     "output_type": "stream",
     "text": [
      "0    307608367\n",
      "1    796963920\n",
      "2    402950864\n",
      "3    904980318\n",
      "4    614577931\n",
      "Name: SQ_NIVEL_ATIVIDADE_ECONOMICA, dtype: object\n"
     ]
    }
   ],
   "source": [
    "sq_nivel_atividade_economica = []\n",
    "for _ in range(data_length):\n",
    "    sq_nivel_atividade_economica.append(''.join(random.choices(string.digits, k=9)))\n",
    "df[\"DATA_IS_VW_ESTAB_EMPRESA\"][\"SQ_NIVEL_ATIVIDADE_ECONOMICA\"] = sq_nivel_atividade_economica\n",
    "print(df[\"DATA_IS_VW_ESTAB_EMPRESA\"][\"SQ_NIVEL_ATIVIDADE_ECONOMICA\"].head())"
   ]
  },
  {
   "cell_type": "code",
   "execution_count": 61,
   "metadata": {},
   "outputs": [
    {
     "name": "stdout",
     "output_type": "stream",
     "text": [
      "0    9\n",
      "1    5\n",
      "2    2\n",
      "3    1\n",
      "4    8\n",
      "Name: IN_PRINCIPAL, dtype: int64\n"
     ]
    }
   ],
   "source": [
    "in_principal = []\n",
    "for _ in range(data_length):\n",
    "    in_principal.append(random.randint(1,9))\n",
    "df[\"DATA_IS_VW_ESTAB_EMPRESA\"][\"IN_PRINCIPAL\"] = in_principal\n",
    "print(df[\"DATA_IS_VW_ESTAB_EMPRESA\"][\"IN_PRINCIPAL\"].head())"
   ]
  },
  {
   "cell_type": "code",
   "execution_count": 65,
   "metadata": {},
   "outputs": [
    {
     "name": "stdout",
     "output_type": "stream",
     "text": [
      "0   2014-12-03\n",
      "1   2016-11-25\n",
      "2   1998-02-21\n",
      "3   2001-03-22\n",
      "4   2020-04-03\n",
      "Name: DT_INICIO_EXERCICIO, dtype: datetime64[ns]\n"
     ]
    }
   ],
   "source": [
    "dt_inicio_exercicio = []\n",
    "for _ in range(data_length):\n",
    "    date = datetime.datetime.strptime('{} {}'.format(random.randint(1, 366), random.randint(1990,2020)), '%j %Y')\n",
    "    dt_inicio_exercicio.append(date)\n",
    "df[\"DATA_IS_VW_ESTAB_EMPRESA\"][\"DT_INICIO_EXERCICIO\"] = dt_inicio_exercicio\n",
    "print(df[\"DATA_IS_VW_ESTAB_EMPRESA\"][\"DT_INICIO_EXERCICIO\"].head())"
   ]
  },
  {
   "cell_type": "code",
   "execution_count": 68,
   "metadata": {},
   "outputs": [
    {
     "name": "stdout",
     "output_type": "stream",
     "text": [
      "0          631\n",
      "1       538752\n",
      "2        69226\n",
      "3    848392758\n",
      "4    419939002\n",
      "Name: NU_ORDEM, dtype: object\n"
     ]
    }
   ],
   "source": [
    "nu_ordem = []\n",
    "for _ in range(data_length):\n",
    "    nu_ordem.append(''.join(random.choices(string.digits, k=random.randint(1,10))))\n",
    "df[\"DATA_IS_VW_ESTAB_EMPRESA\"][\"NU_ORDEM\"] = nu_ordem\n",
    "print(df[\"DATA_IS_VW_ESTAB_EMPRESA\"][\"NU_ORDEM\"].head())"
   ]
  },
  {
   "cell_type": "code",
   "execution_count": 70,
   "metadata": {},
   "outputs": [
    {
     "name": "stdout",
     "output_type": "stream",
     "text": [
      "   id SQ_ESTABELECIMENTO SQ_INSCRICAO_ESTABELECIMENTO NU_INSCRICAO_ESTADUAL  \\\n",
      "0   0          130430855                    685695549              33458145   \n",
      "1   1          762041833                    003723591              89948034   \n",
      "2   2          721033354                    958888098              57868263   \n",
      "3   3          012953063                    198782325              87499908   \n",
      "4   4          745868934                    418319370              24184394   \n",
      "\n",
      "  DT_CONCESSAO_INSCRICAO SQ_ATIVIDADE_ECONOMICA CO_ATIVIDADE_ECONOMICA  \\\n",
      "0             2003-01-12              488071805                UI83IUK   \n",
      "1             1992-03-25              109600399                J98XH2W   \n",
      "2             2020-06-12              275365307                5JTPZ3E   \n",
      "3             1990-04-20              321839936                9GXEKSJ   \n",
      "4             1991-10-03              934812838                EEYQ1E4   \n",
      "\n",
      "                              NO_ATIVIDADE_ECONOMICA  \\\n",
      "0  2SNJEKFUWD3YQL4DIBJ4VBL8M7P87L5J3GP2XI2KINYO51...   \n",
      "1  F1CN9XNH4JNFJ67RNIZGT9REUPOSSR6AFUOCFR4EBD8BVU...   \n",
      "2  Q789KSN98T6JY0NLK6IRNMGN1ZIDQVX7SSIWX6L3V6KNVO...   \n",
      "3  T5FND8FEARZ7U7SHIMIRM395KSZSDZ04WZ2EHMUK02KPA0...   \n",
      "4  1DWHIXDAXW40S88ELMVSJAOS972WRKU9E5UVP4ZPXFJYI5...   \n",
      "\n",
      "  SQ_VERSAO_TABELA_ATIVIDADES SQ_NIVEL_ATIVIDADE_ECONOMICA  IN_PRINCIPAL  \\\n",
      "0                   606633739                    307608367             9   \n",
      "1                   113825008                    796963920             5   \n",
      "2                   465879466                    402950864             2   \n",
      "3                   734853121                    904980318             1   \n",
      "4                   765624241                    614577931             8   \n",
      "\n",
      "  DT_INICIO_EXERCICIO   NU_ORDEM  \n",
      "0          2014-12-03        631  \n",
      "1          2016-11-25     538752  \n",
      "2          1998-02-21      69226  \n",
      "3          2001-03-22  848392758  \n",
      "4          2020-04-03  419939002  \n"
     ]
    }
   ],
   "source": [
    "print(df[\"DATA_IS_VW_ESTAB_EMPRESA\"].head())"
   ]
  },
  {
   "cell_type": "code",
   "execution_count": null,
   "metadata": {},
   "outputs": [],
   "source": []
  }
 ],
 "metadata": {
  "kernelspec": {
   "display_name": "Python 3",
   "language": "python",
   "name": "python3"
  },
  "language_info": {
   "codemirror_mode": {
    "name": "ipython",
    "version": 3
   },
   "file_extension": ".py",
   "mimetype": "text/x-python",
   "name": "python",
   "nbconvert_exporter": "python",
   "pygments_lexer": "ipython3",
   "version": "3.6.9"
  }
 },
 "nbformat": 4,
 "nbformat_minor": 2
}

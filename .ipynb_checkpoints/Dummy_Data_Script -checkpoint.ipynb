{
 "cells": [
  {
   "cell_type": "markdown",
   "metadata": {},
   "source": [
    "## Dummy Data for POC Sefaz RJ\n",
    "- Developers: Lucas Moutinho, Victor Ciurlini\n",
    "- Code developed by team Ninjas Vert: Soluções em TIC\n",
    "\n",
    "<br>\n",
    "<img src=\"image/sefaz.jpg\" width=\"400\" height=\"200\">"
   ]
  },
  {
   "cell_type": "markdown",
   "metadata": {},
   "source": [
    "### Create tables"
   ]
  },
  {
   "cell_type": "code",
   "execution_count": 16,
   "metadata": {},
   "outputs": [],
   "source": [
    "import pandas as pd\n",
    "import random\n",
    "import string\n",
    "import datetime\n",
    "import matplotlib.pyplot as plt"
   ]
  },
  {
   "cell_type": "code",
   "execution_count": 28,
   "metadata": {},
   "outputs": [
    {
     "name": "stdout",
     "output_type": "stream",
     "text": [
      "{'DATA_NOTA_FISCAL':       id\n",
      "0      0\n",
      "1      1\n",
      "2      2\n",
      "3      3\n",
      "4      4\n",
      "..   ...\n",
      "295  295\n",
      "296  296\n",
      "297  297\n",
      "298  298\n",
      "299  299\n",
      "\n",
      "[300 rows x 1 columns], 'DATA_PRODUTO_SERVICO':       id\n",
      "0      0\n",
      "1      1\n",
      "2      2\n",
      "3      3\n",
      "4      4\n",
      "..   ...\n",
      "295  295\n",
      "296  296\n",
      "297  297\n",
      "298  298\n",
      "299  299\n",
      "\n",
      "[300 rows x 1 columns], 'DATA_SITUACAO_NF':       id\n",
      "0      0\n",
      "1      1\n",
      "2      2\n",
      "3      3\n",
      "4      4\n",
      "..   ...\n",
      "295  295\n",
      "296  296\n",
      "297  297\n",
      "298  298\n",
      "299  299\n",
      "\n",
      "[300 rows x 1 columns], 'DATA_PRODUTO':       id\n",
      "0      0\n",
      "1      1\n",
      "2      2\n",
      "3      3\n",
      "4      4\n",
      "..   ...\n",
      "295  295\n",
      "296  296\n",
      "297  297\n",
      "298  298\n",
      "299  299\n",
      "\n",
      "[300 rows x 1 columns], 'DATA_IS_VW_ESTAB_EMPRESA':       id\n",
      "0      0\n",
      "1      1\n",
      "2      2\n",
      "3      3\n",
      "4      4\n",
      "..   ...\n",
      "295  295\n",
      "296  296\n",
      "297  297\n",
      "298  298\n",
      "299  299\n",
      "\n",
      "[300 rows x 1 columns], 'DATA_IS_VW_ESTAB_ATV_ECO':       id\n",
      "0      0\n",
      "1      1\n",
      "2      2\n",
      "3      3\n",
      "4      4\n",
      "..   ...\n",
      "295  295\n",
      "296  296\n",
      "297  297\n",
      "298  298\n",
      "299  299\n",
      "\n",
      "[300 rows x 1 columns]}\n"
     ]
    }
   ],
   "source": [
    "data_tables = [\"NOTA_FISCAL\", \"PRODUTO_SERVICO\", \"SITUACAO_NF\", \"PRODUTO\", \"IS_VW_ESTAB_EMPRESA\", \"IS_VW_ESTAB_ATV_ECO\"]\n",
    "df = {}\n",
    "data_length = 300\n",
    "for x in data_tables:\n",
    "    data = {\"id\": [x for x in range(data_length)]}\n",
    "    df[\"DATA_{0}\".format(x)] = pd.DataFrame(data)\n",
    "print(df)"
   ]
  },
  {
   "cell_type": "markdown",
   "metadata": {},
   "source": [
    "### Dummy data for SITUACAO_NF"
   ]
  },
  {
   "cell_type": "code",
   "execution_count": 41,
   "metadata": {},
   "outputs": [
    {
     "name": "stdout",
     "output_type": "stream",
     "text": [
      "0    952ELEPOQ0QDRQYS0IG044PKQFYLI6TKT5O3OZRINBYCF0...\n",
      "1    YKPJVPO6R1AVZ1TELUJ3PDBH7ZPIDQHK1ZFZ7S7JSDJWZD...\n",
      "2    N51OVEDOAUU6M7PXXPB7AZXZZ1PH5CJX7RMM3WIUPO0826...\n",
      "3    D0ZNKR9IFD7P983EH91O1NIFJH3RGG1K47H1YAZT1EV4ZC...\n",
      "4    78Q4KIAPK7EVY5K0LA3LXVRDE97X30UGWKC4Z0ST7SY7R1...\n",
      "Name: CO_CHAVE_ACESSO, dtype: object\n"
     ]
    }
   ],
   "source": [
    "co_chave_acesso = []\n",
    "for _ in range(data_length):\n",
    "    co_chave_acesso.append(''.join(random.choices(string.ascii_uppercase + string.digits, k=61)))\n",
    "df[\"DATA_SITUACAO_NF\"][\"CO_CHAVE_ACESSO\"] = co_chave_acesso\n",
    "print(df[\"DATA_SITUACAO_NF\"][\"CO_CHAVE_ACESSO\"].head())"
   ]
  },
  {
   "cell_type": "code",
   "execution_count": 30,
   "metadata": {},
   "outputs": [
    {
     "name": "stdout",
     "output_type": "stream",
     "text": [
      "0   2008-03-08\n",
      "1   1992-09-29\n",
      "2   2016-04-12\n",
      "3   2009-06-28\n",
      "4   2003-01-07\n",
      "Name: DT_STATUS, dtype: datetime64[ns]\n"
     ]
    }
   ],
   "source": [
    "dt_status = []\n",
    "for _ in range(data_length):\n",
    "    date = datetime.datetime.strptime('{} {}'.format(random.randint(1, 366), random.randint(1990,2020)), '%j %Y')\n",
    "    dt_status.append(date)\n",
    "df[\"DATA_SITUACAO_NF\"][\"DT_STATUS\"] = dt_status\n",
    "print(df[\"DATA_SITUACAO_NF\"][\"DT_STATUS\"].head())"
   ]
  },
  {
   "cell_type": "code",
   "execution_count": 32,
   "metadata": {},
   "outputs": [
    {
     "name": "stdout",
     "output_type": "stream",
     "text": [
      "0     08508661\n",
      "1         1347\n",
      "2       051564\n",
      "3    299257017\n",
      "4       942344\n",
      "Name: SITUACAO_NF_CO_SITUACAO, dtype: object\n"
     ]
    }
   ],
   "source": [
    "situacao_nf_co_situacao = []\n",
    "for _ in range(data_length):\n",
    "    situacao_nf_co_situacao.append(''.join(random.choices(string.digits, k=random.randint(1,10))))\n",
    "df[\"DATA_SITUACAO_NF\"][\"SITUACAO_NF_CO_SITUACAO\"] = situacao_nf_co_situacao\n",
    "print(df[\"DATA_SITUACAO_NF\"][\"SITUACAO_NF_CO_SITUACAO\"].head())"
   ]
  },
  {
   "cell_type": "code",
   "execution_count": 40,
   "metadata": {},
   "outputs": [
    {
     "name": "stdout",
     "output_type": "stream",
     "text": [
      "0    2\n",
      "1    2\n",
      "2    1\n",
      "3    2\n",
      "4    2\n",
      "Name: TP_ORIGEM_ATUALIZACAO, dtype: int64\n"
     ]
    }
   ],
   "source": [
    "tp_origem_atualizacao = []\n",
    "for _ in range(data_length):\n",
    "    tp_origem_atualizacao.append(random.randint(1,3))\n",
    "df[\"DATA_SITUACAO_NF\"][\"TP_ORIGEM_ATUALIZACAO\"] = tp_origem_atualizacao\n",
    "print(df[\"DATA_SITUACAO_NF\"][\"TP_ORIGEM_ATUALIZACAO\"].head())"
   ]
  },
  {
   "cell_type": "code",
   "execution_count": 42,
   "metadata": {},
   "outputs": [
    {
     "name": "stdout",
     "output_type": "stream",
     "text": [
      "0    MHFAOHF4TT3V59VEAFAXB2VGI1GWTVXQZFMP4F4O0IVDDA...\n",
      "1    5NWW7AUO6LKV7JUPQDFNZ68WN3WG994XFQROO92HX8EXJ0...\n",
      "2    GBC56BXQ8CZAZBKBN0TPJEE5R1YMHJR5VVF429271FQML1...\n",
      "3    0LJSJXT9GO1U9VE5CRZYOFXGJ0W2241TYXFCRODJ01WBKH...\n",
      "4    M3HQ2Q1B5RGONR27AY0WPK39DP8ODPS7QUBADMLAX9S6HX...\n",
      "Name: CO_CHAVE_ACESSO_CANCELAMENTO, dtype: object\n"
     ]
    }
   ],
   "source": [
    "co_chave_acesso_cancelamento = []\n",
    "for _ in range(data_length):\n",
    "    co_chave_acesso_cancelamento.append(''.join(random.choices(string.ascii_uppercase + string.digits, k=61)))\n",
    "df[\"DATA_SITUACAO_NF\"][\"CO_CHAVE_ACESSO_CANCELAMENTO\"] = co_chave_acesso_cancelamento\n",
    "print(df[\"DATA_SITUACAO_NF\"][\"CO_CHAVE_ACESSO_CANCELAMENTO\"].head())"
   ]
  },
  {
   "cell_type": "code",
   "execution_count": 43,
   "metadata": {},
   "outputs": [
    {
     "name": "stdout",
     "output_type": "stream",
     "text": [
      "   id                                    CO_CHAVE_ACESSO  DT_STATUS  \\\n",
      "0   0  952ELEPOQ0QDRQYS0IG044PKQFYLI6TKT5O3OZRINBYCF0... 2008-03-08   \n",
      "1   1  YKPJVPO6R1AVZ1TELUJ3PDBH7ZPIDQHK1ZFZ7S7JSDJWZD... 1992-09-29   \n",
      "2   2  N51OVEDOAUU6M7PXXPB7AZXZZ1PH5CJX7RMM3WIUPO0826... 2016-04-12   \n",
      "3   3  D0ZNKR9IFD7P983EH91O1NIFJH3RGG1K47H1YAZT1EV4ZC... 2009-06-28   \n",
      "4   4  78Q4KIAPK7EVY5K0LA3LXVRDE97X30UGWKC4Z0ST7SY7R1... 2003-01-07   \n",
      "\n",
      "  SITUACAO_NF_CO_SITUACAO  TP_ORIGEM_ATUALIZACAO  \\\n",
      "0                08508661                      2   \n",
      "1                    1347                      2   \n",
      "2                  051564                      1   \n",
      "3               299257017                      2   \n",
      "4                  942344                      2   \n",
      "\n",
      "                        CO_CHAVE_ACESSO_CANCELAMENTO  \n",
      "0  MHFAOHF4TT3V59VEAFAXB2VGI1GWTVXQZFMP4F4O0IVDDA...  \n",
      "1  5NWW7AUO6LKV7JUPQDFNZ68WN3WG994XFQROO92HX8EXJ0...  \n",
      "2  GBC56BXQ8CZAZBKBN0TPJEE5R1YMHJR5VVF429271FQML1...  \n",
      "3  0LJSJXT9GO1U9VE5CRZYOFXGJ0W2241TYXFCRODJ01WBKH...  \n",
      "4  M3HQ2Q1B5RGONR27AY0WPK39DP8ODPS7QUBADMLAX9S6HX...  \n"
     ]
    }
   ],
   "source": [
    "print(df[\"DATA_SITUACAO_NF\"].head())"
   ]
  },
  {
   "cell_type": "markdown",
   "metadata": {},
   "source": [
    "### Dummy data for IS_VW_ESTAB_EMPRESA"
   ]
  },
  {
   "cell_type": "code",
   "execution_count": null,
   "metadata": {},
   "outputs": [],
   "source": []
  }
 ],
 "metadata": {
  "kernelspec": {
   "display_name": "Python 3",
   "language": "python",
   "name": "python3"
  },
  "language_info": {
   "codemirror_mode": {
    "name": "ipython",
    "version": 3
   },
   "file_extension": ".py",
   "mimetype": "text/x-python",
   "name": "python",
   "nbconvert_exporter": "python",
   "pygments_lexer": "ipython3",
   "version": "3.6.9"
  }
 },
 "nbformat": 4,
 "nbformat_minor": 2
}

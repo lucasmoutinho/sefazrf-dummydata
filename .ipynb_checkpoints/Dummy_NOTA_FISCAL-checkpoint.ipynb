{
 "cells": [
  {
   "cell_type": "markdown",
   "metadata": {},
   "source": [
    "### Dummy data for NOTA_FISCAL"
   ]
  },
  {
   "cell_type": "code",
   "execution_count": 2,
   "metadata": {},
   "outputs": [],
   "source": [
    "import pandas as pd\n",
    "import random\n",
    "import string\n",
    "import datetime\n",
    "import matplotlib.pyplot as plt"
   ]
  },
  {
   "cell_type": "code",
   "execution_count": 5,
   "metadata": {},
   "outputs": [
    {
     "name": "stdout",
     "output_type": "stream",
     "text": [
      "{'DATA_NOTA_FISCAL':       id\n",
      "0      0\n",
      "1      1\n",
      "2      2\n",
      "3      3\n",
      "4      4\n",
      "..   ...\n",
      "295  295\n",
      "296  296\n",
      "297  297\n",
      "298  298\n",
      "299  299\n",
      "\n",
      "[300 rows x 1 columns]}\n"
     ]
    }
   ],
   "source": [
    "data_tables = [\"NOTA_FISCAL\"]\n",
    "df = {}\n",
    "data_length = 300\n",
    "for x in data_tables:\n",
    "    data = {\"id\": [x for x in range(data_length)]}\n",
    "    df[\"DATA_{0}\".format(x)] = pd.DataFrame(data)\n",
    "print(df)"
   ]
  },
  {
   "cell_type": "code",
   "execution_count": null,
   "metadata": {},
   "outputs": [],
   "source": []
  }
 ],
 "metadata": {
  "kernelspec": {
   "display_name": "Python 3",
   "language": "python",
   "name": "python3"
  },
  "language_info": {
   "codemirror_mode": {
    "name": "ipython",
    "version": 3
   },
   "file_extension": ".py",
   "mimetype": "text/x-python",
   "name": "python",
   "nbconvert_exporter": "python",
   "pygments_lexer": "ipython3",
   "version": "3.6.9"
  }
 },
 "nbformat": 4,
 "nbformat_minor": 2
}
